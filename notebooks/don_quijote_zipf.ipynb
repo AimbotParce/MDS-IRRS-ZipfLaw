{
 "cells": [
  {
   "cell_type": "code",
   "execution_count": null,
   "id": "748f4897",
   "metadata": {},
   "outputs": [
    {
     "ename": "",
     "evalue": "",
     "output_type": "error",
     "traceback": [
      "\u001b[1;31mRunning cells with 'zipf-law (Python 3.10.4)' requires the ipykernel package.\n",
      "\u001b[1;31mInstall 'ipykernel' into the Python environment. \n",
      "\u001b[1;31mCommand: '\"c:/Users/mirxm/OneDrive/Escritorio/Storage/Work/MDS/S3/IRRS/Lab01 - Zipf Law/.venv/Scripts/python.exe\" -m pip install ipykernel -U --force-reinstall'"
     ]
    }
   ],
   "source": [
    "# Load Document\n",
    "\n",
    "with open(\"../data/raw/don_quixote.txt\", \"r\", encoding=\"utf-8\") as file:\n",
    "    document = file.read()"
   ]
  }
 ],
 "metadata": {
  "kernelspec": {
   "display_name": "zipf-law",
   "language": "python",
   "name": "python3"
  },
  "language_info": {
   "name": "python",
   "version": "3.10.4"
  }
 },
 "nbformat": 4,
 "nbformat_minor": 5
}
