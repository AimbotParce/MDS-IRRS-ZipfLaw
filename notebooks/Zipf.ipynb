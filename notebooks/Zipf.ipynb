{
 "cells": [
  {
   "cell_type": "markdown",
   "id": "e7aa7aae-b255-418b-b4c8-6d803b632dfe",
   "metadata": {},
   "source": [
    "# Zipf's Law"
   ]
  },
  {
   "cell_type": "markdown",
   "id": "793f9486-6492-49e2-94d7-78400d4da9f5",
   "metadata": {},
   "source": []
  },
  {
   "cell_type": "code",
   "execution_count": 4,
   "id": "dae1c08d-59ee-4431-81e3-c328ff5d77da",
   "metadata": {},
   "outputs": [],
   "source": [
    "data = [\"hello\", \"hello\", \"world\"]  # This is a placeholder list containing the tokens\n",
    "\n",
    "data_count = {}\n",
    "\n",
    "for token in data:\n",
    "    current_count = data_count.get(token, 0)\n",
    "    data_count[token] = current_count + 1"
   ]
  },
  {
   "cell_type": "code",
   "execution_count": 12,
   "id": "15f3f75b-801c-4a9b-b69e-5be5378f1ea7",
   "metadata": {},
   "outputs": [
    {
     "data": {
      "text/plain": [
       "array([2, 1])"
      ]
     },
     "execution_count": 12,
     "metadata": {},
     "output_type": "execute_result"
    }
   ],
   "source": [
    "import numpy as np\n",
    "\n",
    "counts = np.array(list(data_count.values()))\n",
    "counts = np.sort(counts)[::-1]\n",
    "counts"
   ]
  },
  {
   "cell_type": "code",
   "execution_count": null,
   "id": "ce173f94-ce4c-4d69-93f8-67072e0540ac",
   "metadata": {},
   "outputs": [],
   "source": [
    "import matplotlib.pyplot as plt\n",
    "\n",
    "rank = np.arange(1, 51)\n",
    "\n",
    "plt.plot(rank, counts, 'x', color='k')\n",
    "plt.xlim((-2, 50))\n",
    "plt.xlabel(\"Rank\")\n",
    "plt.ylabel(\"Frequency\")\n",
    "plt.title(\"50 Most frequent words\")\n",
    "plt.grid()\n",
    "plt.savefig(\"Images/50_words.png\", dpi=1000)\n",
    "plt.show()\n"
   ]
  }
 ],
 "metadata": {
  "kernelspec": {
   "display_name": "Python 3 (ipykernel)",
   "language": "python",
   "name": "python3"
  },
  "language_info": {
   "codemirror_mode": {
    "name": "ipython",
    "version": 3
   },
   "file_extension": ".py",
   "mimetype": "text/x-python",
   "name": "python",
   "nbconvert_exporter": "python",
   "pygments_lexer": "ipython3",
   "version": "3.12.3"
  }
 },
 "nbformat": 4,
 "nbformat_minor": 5
}
